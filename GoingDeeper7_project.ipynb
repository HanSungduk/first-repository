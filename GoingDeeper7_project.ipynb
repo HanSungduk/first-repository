{
 "cells": [
  {
   "cell_type": "code",
   "execution_count": 1,
   "id": "5d340b4b",
   "metadata": {},
   "outputs": [],
   "source": [
    "import pandas as pd\n",
    "from tensorflow.keras.preprocessing.text import Tokenizer\n",
    "from tensorflow.keras.preprocessing.sequence import pad_sequences\n",
    "from tensorflow.keras.utils import to_categorical\n",
    "import numpy as np"
   ]
  },
  {
   "cell_type": "code",
   "execution_count": 2,
   "id": "7ae445b1",
   "metadata": {},
   "outputs": [
    {
     "name": "stdout",
     "output_type": "stream",
     "text": [
      "전체 샘플의 수 : 217975\n"
     ]
    },
    {
     "data": {
      "text/html": [
       "<div>\n",
       "<style scoped>\n",
       "    .dataframe tbody tr th:only-of-type {\n",
       "        vertical-align: middle;\n",
       "    }\n",
       "\n",
       "    .dataframe tbody tr th {\n",
       "        vertical-align: top;\n",
       "    }\n",
       "\n",
       "    .dataframe thead th {\n",
       "        text-align: right;\n",
       "    }\n",
       "</style>\n",
       "<table border=\"1\" class=\"dataframe\">\n",
       "  <thead>\n",
       "    <tr style=\"text-align: right;\">\n",
       "      <th></th>\n",
       "      <th>eng</th>\n",
       "      <th>fra</th>\n",
       "      <th>cc</th>\n",
       "    </tr>\n",
       "  </thead>\n",
       "  <tbody>\n",
       "    <tr>\n",
       "      <th>188457</th>\n",
       "      <td>All the students protested against the war.</td>\n",
       "      <td>Tous les étudiants ont protesté contre la guerre.</td>\n",
       "      <td>CC-BY 2.0 (France) Attribution: tatoeba.org #2...</td>\n",
       "    </tr>\n",
       "    <tr>\n",
       "      <th>56518</th>\n",
       "      <td>It's not a fair fight.</td>\n",
       "      <td>Ce n'est pas un combat loyal.</td>\n",
       "      <td>CC-BY 2.0 (France) Attribution: tatoeba.org #1...</td>\n",
       "    </tr>\n",
       "    <tr>\n",
       "      <th>14177</th>\n",
       "      <td>Did you read it?</td>\n",
       "      <td>Est-ce que vous l'avez lu ?</td>\n",
       "      <td>CC-BY 2.0 (France) Attribution: tatoeba.org #3...</td>\n",
       "    </tr>\n",
       "    <tr>\n",
       "      <th>202445</th>\n",
       "      <td>We spent a lot of time looking for a parking lot.</td>\n",
       "      <td>Nous avons passé beaucoup de temps à chercher ...</td>\n",
       "      <td>CC-BY 2.0 (France) Attribution: tatoeba.org #2...</td>\n",
       "    </tr>\n",
       "    <tr>\n",
       "      <th>105109</th>\n",
       "      <td>I grew these carrots myself.</td>\n",
       "      <td>J'ai fait moi-même pousser ces carottes.</td>\n",
       "      <td>CC-BY 2.0 (France) Attribution: tatoeba.org #2...</td>\n",
       "    </tr>\n",
       "  </tbody>\n",
       "</table>\n",
       "</div>"
      ],
      "text/plain": [
       "                                                      eng  \\\n",
       "188457        All the students protested against the war.   \n",
       "56518                              It's not a fair fight.   \n",
       "14177                                    Did you read it?   \n",
       "202445  We spent a lot of time looking for a parking lot.   \n",
       "105109                       I grew these carrots myself.   \n",
       "\n",
       "                                                      fra  \\\n",
       "188457  Tous les étudiants ont protesté contre la guerre.   \n",
       "56518                       Ce n'est pas un combat loyal.   \n",
       "14177                         Est-ce que vous l'avez lu ?   \n",
       "202445  Nous avons passé beaucoup de temps à chercher ...   \n",
       "105109           J'ai fait moi-même pousser ces carottes.   \n",
       "\n",
       "                                                       cc  \n",
       "188457  CC-BY 2.0 (France) Attribution: tatoeba.org #2...  \n",
       "56518   CC-BY 2.0 (France) Attribution: tatoeba.org #1...  \n",
       "14177   CC-BY 2.0 (France) Attribution: tatoeba.org #3...  \n",
       "202445  CC-BY 2.0 (France) Attribution: tatoeba.org #2...  \n",
       "105109  CC-BY 2.0 (France) Attribution: tatoeba.org #2...  "
      ]
     },
     "execution_count": 2,
     "metadata": {},
     "output_type": "execute_result"
    }
   ],
   "source": [
    "import os\n",
    "file_path = os.getenv('HOME')+'/aiffel/translator_seq2seq/data/fra.txt'\n",
    "lines = pd.read_csv(file_path, names=['eng', 'fra', 'cc'], sep='\\t')\n",
    "print('전체 샘플의 수 :',len(lines))\n",
    "lines.sample(5) #샘플 5개 출력"
   ]
  },
  {
   "cell_type": "code",
   "execution_count": 3,
   "id": "09b7affc",
   "metadata": {},
   "outputs": [
    {
     "data": {
      "text/html": [
       "<div>\n",
       "<style scoped>\n",
       "    .dataframe tbody tr th:only-of-type {\n",
       "        vertical-align: middle;\n",
       "    }\n",
       "\n",
       "    .dataframe tbody tr th {\n",
       "        vertical-align: top;\n",
       "    }\n",
       "\n",
       "    .dataframe thead th {\n",
       "        text-align: right;\n",
       "    }\n",
       "</style>\n",
       "<table border=\"1\" class=\"dataframe\">\n",
       "  <thead>\n",
       "    <tr style=\"text-align: right;\">\n",
       "      <th></th>\n",
       "      <th>eng</th>\n",
       "      <th>fra</th>\n",
       "    </tr>\n",
       "  </thead>\n",
       "  <tbody>\n",
       "    <tr>\n",
       "      <th>3748</th>\n",
       "      <td>Let's hurry.</td>\n",
       "      <td>Dépêchons-nous.</td>\n",
       "    </tr>\n",
       "    <tr>\n",
       "      <th>2671</th>\n",
       "      <td>We're even.</td>\n",
       "      <td>Nous sommes quittes.</td>\n",
       "    </tr>\n",
       "    <tr>\n",
       "      <th>1967</th>\n",
       "      <td>I enjoy it.</td>\n",
       "      <td>J'apprécie cela.</td>\n",
       "    </tr>\n",
       "    <tr>\n",
       "      <th>3142</th>\n",
       "      <td>I can't see.</td>\n",
       "      <td>Je ne parviens pas à voir.</td>\n",
       "    </tr>\n",
       "    <tr>\n",
       "      <th>262</th>\n",
       "      <td>Get out.</td>\n",
       "      <td>Sortez !</td>\n",
       "    </tr>\n",
       "  </tbody>\n",
       "</table>\n",
       "</div>"
      ],
      "text/plain": [
       "               eng                         fra\n",
       "3748  Let's hurry.             Dépêchons-nous.\n",
       "2671   We're even.        Nous sommes quittes.\n",
       "1967   I enjoy it.            J'apprécie cela.\n",
       "3142  I can't see.  Je ne parviens pas à voir.\n",
       "262       Get out.                    Sortez !"
      ]
     },
     "execution_count": 3,
     "metadata": {},
     "output_type": "execute_result"
    }
   ],
   "source": [
    "lines = lines[['eng', 'fra']][:8800] # 1.3만개 샘플 사용\n",
    "lines.sample(5)"
   ]
  },
  {
   "cell_type": "code",
   "execution_count": 4,
   "id": "e274c06e",
   "metadata": {},
   "outputs": [
    {
     "name": "stdout",
     "output_type": "stream",
     "text": [
      "전체 샘플의 수 : 8800\n"
     ]
    },
    {
     "data": {
      "text/html": [
       "<div>\n",
       "<style scoped>\n",
       "    .dataframe tbody tr th:only-of-type {\n",
       "        vertical-align: middle;\n",
       "    }\n",
       "\n",
       "    .dataframe tbody tr th {\n",
       "        vertical-align: top;\n",
       "    }\n",
       "\n",
       "    .dataframe thead th {\n",
       "        text-align: right;\n",
       "    }\n",
       "</style>\n",
       "<table border=\"1\" class=\"dataframe\">\n",
       "  <thead>\n",
       "    <tr style=\"text-align: right;\">\n",
       "      <th></th>\n",
       "      <th>eng</th>\n",
       "      <th>fra</th>\n",
       "    </tr>\n",
       "  </thead>\n",
       "  <tbody>\n",
       "    <tr>\n",
       "      <th>5823</th>\n",
       "      <td>Let me do it.</td>\n",
       "      <td>sos Laisse-moi faire. eos</td>\n",
       "    </tr>\n",
       "    <tr>\n",
       "      <th>8041</th>\n",
       "      <td>I'll take one.</td>\n",
       "      <td>sos J'en prendrai une. eos</td>\n",
       "    </tr>\n",
       "    <tr>\n",
       "      <th>3296</th>\n",
       "      <td>I must hide.</td>\n",
       "      <td>sos Il me faut me cacher. eos</td>\n",
       "    </tr>\n",
       "    <tr>\n",
       "      <th>4229</th>\n",
       "      <td>Was it good?</td>\n",
       "      <td>sos Était-ce bon ? eos</td>\n",
       "    </tr>\n",
       "    <tr>\n",
       "      <th>406</th>\n",
       "      <td>Shut up!</td>\n",
       "      <td>sos Ferme-la ! eos</td>\n",
       "    </tr>\n",
       "  </tbody>\n",
       "</table>\n",
       "</div>"
      ],
      "text/plain": [
       "                 eng                            fra\n",
       "5823   Let me do it.      sos Laisse-moi faire. eos\n",
       "8041  I'll take one.     sos J'en prendrai une. eos\n",
       "3296    I must hide.  sos Il me faut me cacher. eos\n",
       "4229    Was it good?         sos Était-ce bon ? eos\n",
       "406         Shut up!             sos Ferme-la ! eos"
      ]
     },
     "execution_count": 4,
     "metadata": {},
     "output_type": "execute_result"
    }
   ],
   "source": [
    "# 시작 토큰과 종료 토큰 추가\n",
    "sos_token = 'sos'\n",
    "eos_token = 'eos'\n",
    "lines.fra = lines.fra.apply(lambda x : 'sos ' + x + ' eos')\n",
    "print('전체 샘플의 수 :',len(lines))\n",
    "lines.sample(5)"
   ]
  },
  {
   "cell_type": "code",
   "execution_count": 5,
   "id": "1e3ab275",
   "metadata": {},
   "outputs": [
    {
     "data": {
      "text/html": [
       "<div>\n",
       "<style scoped>\n",
       "    .dataframe tbody tr th:only-of-type {\n",
       "        vertical-align: middle;\n",
       "    }\n",
       "\n",
       "    .dataframe tbody tr th {\n",
       "        vertical-align: top;\n",
       "    }\n",
       "\n",
       "    .dataframe thead th {\n",
       "        text-align: right;\n",
       "    }\n",
       "</style>\n",
       "<table border=\"1\" class=\"dataframe\">\n",
       "  <thead>\n",
       "    <tr style=\"text-align: right;\">\n",
       "      <th></th>\n",
       "      <th>eng</th>\n",
       "      <th>fra</th>\n",
       "    </tr>\n",
       "  </thead>\n",
       "  <tbody>\n",
       "    <tr>\n",
       "      <th>6208</th>\n",
       "      <td>[they're, free]</td>\n",
       "      <td>[sos, ils, sont, libres, eos]</td>\n",
       "    </tr>\n",
       "    <tr>\n",
       "      <th>4389</th>\n",
       "      <td>[where's, tom]</td>\n",
       "      <td>[sos, où, est, tom, eos]</td>\n",
       "    </tr>\n",
       "    <tr>\n",
       "      <th>2374</th>\n",
       "      <td>[look, at, it]</td>\n",
       "      <td>[sos, regarde, le, eos]</td>\n",
       "    </tr>\n",
       "    <tr>\n",
       "      <th>7862</th>\n",
       "      <td>[i, see, the, boy]</td>\n",
       "      <td>[sos, je, vois, le, garçon, eos]</td>\n",
       "    </tr>\n",
       "    <tr>\n",
       "      <th>5473</th>\n",
       "      <td>[i'm, not, dead]</td>\n",
       "      <td>[sos, je, ne, suis, pas, mort, eos]</td>\n",
       "    </tr>\n",
       "  </tbody>\n",
       "</table>\n",
       "</div>"
      ],
      "text/plain": [
       "                     eng                                  fra\n",
       "6208     [they're, free]        [sos, ils, sont, libres, eos]\n",
       "4389      [where's, tom]             [sos, où, est, tom, eos]\n",
       "2374      [look, at, it]              [sos, regarde, le, eos]\n",
       "7862  [i, see, the, boy]     [sos, je, vois, le, garçon, eos]\n",
       "5473    [i'm, not, dead]  [sos, je, ne, suis, pas, mort, eos]"
      ]
     },
     "execution_count": 5,
     "metadata": {},
     "output_type": "execute_result"
    }
   ],
   "source": [
    "from tensorflow.keras.preprocessing.text import text_to_word_sequence\n",
    "\n",
    "lines.eng = lines.eng.apply(lambda x : text_to_word_sequence(x))\n",
    "lines.fra = lines.fra.apply(lambda x : text_to_word_sequence(x))\n",
    "# lines.eng = lines.eng.apply(lambda x : x.lower())\n",
    "# lines.fra = lines.fra.apply(lambda x : x.lower())\n",
    "\n",
    "lines.sample(5)"
   ]
  },
  {
   "cell_type": "code",
   "execution_count": 6,
   "id": "8fc5f89a",
   "metadata": {},
   "outputs": [
    {
     "data": {
      "text/plain": [
       "[[9],\n",
       " [9],\n",
       " [9],\n",
       " [9],\n",
       " [366],\n",
       " [366],\n",
       " [86],\n",
       " [86],\n",
       " [86],\n",
       " [86],\n",
       " [86],\n",
       " [86],\n",
       " [86],\n",
       " [86],\n",
       " [86],\n",
       " [86],\n",
       " [86],\n",
       " [86],\n",
       " [86],\n",
       " [86],\n",
       " [86],\n",
       " [86],\n",
       " [46],\n",
       " [760],\n",
       " [760],\n",
       " [760],\n",
       " [761],\n",
       " [761],\n",
       " [761],\n",
       " [367]]"
      ]
     },
     "execution_count": 6,
     "metadata": {},
     "output_type": "execute_result"
    }
   ],
   "source": [
    "eng_tokenizer = Tokenizer()   # 문자 단위로 Tokenizer를 생성합니다. \n",
    "eng_tokenizer.fit_on_texts(lines.eng)               # 50000개의 행을 가진 eng의 각 행에 토큰화를 수행\n",
    "input_text = eng_tokenizer.texts_to_sequences(lines.eng)    # 단어를 숫자값 인덱스로 변환하여 저장\n",
    "input_text[:30]"
   ]
  },
  {
   "cell_type": "code",
   "execution_count": 7,
   "id": "0ec40585",
   "metadata": {},
   "outputs": [
    {
     "data": {
      "text/plain": [
       "[[1, 37, 2],\n",
       " [1, 210, 2],\n",
       " [1, 22, 246, 2],\n",
       " [1, 197, 2],\n",
       " [1, 413, 2],\n",
       " [1, 413, 2],\n",
       " [1, 1174, 2],\n",
       " [1, 1175, 2],\n",
       " [1, 81, 259, 470, 16, 259, 859, 2],\n",
       " [1, 471, 2],\n",
       " [1, 860, 2],\n",
       " [1, 472, 2],\n",
       " [1, 861, 2],\n",
       " [1, 1176, 2],\n",
       " [1, 1174, 2],\n",
       " [1, 1175, 2],\n",
       " [1, 81, 259, 470, 16, 259, 859, 2],\n",
       " [1, 471, 2],\n",
       " [1, 860, 2],\n",
       " [1, 472, 2],\n",
       " [1, 861, 2],\n",
       " [1, 1176, 2],\n",
       " [1, 30, 2],\n",
       " [1, 20, 1928, 2],\n",
       " [1, 1929, 2],\n",
       " [1, 1930, 2],\n",
       " [1, 16, 1931, 2],\n",
       " [1, 665, 862, 2],\n",
       " [1, 1932, 1177, 2],\n",
       " [1, 71, 414, 2]]"
      ]
     },
     "execution_count": 7,
     "metadata": {},
     "output_type": "execute_result"
    }
   ],
   "source": [
    "fra_tokenizer = Tokenizer()   # 문자 단위로 Tokenizer를 생성합니다. \n",
    "fra_tokenizer.fit_on_texts(lines.fra)                 # 50000개의 행을 가진 fra의 각 행에 토큰화를 수행\n",
    "target_text = fra_tokenizer.texts_to_sequences(lines.fra)     # 단어를 숫자값 인덱스로 변환하여 저장\n",
    "target_text[:30]"
   ]
  },
  {
   "cell_type": "code",
   "execution_count": 8,
   "id": "34f6d16b",
   "metadata": {},
   "outputs": [
    {
     "name": "stdout",
     "output_type": "stream",
     "text": [
      "영어 단어장의 크기 : 1844\n",
      "프랑스어 단어장의 크기 : 3984\n"
     ]
    }
   ],
   "source": [
    "eng_vocab_size = len(eng_tokenizer.word_index) + 1\n",
    "fra_vocab_size = len(fra_tokenizer.word_index) + 1\n",
    "print('영어 단어장의 크기 :', eng_vocab_size)\n",
    "print('프랑스어 단어장의 크기 :', fra_vocab_size)"
   ]
  },
  {
   "cell_type": "code",
   "execution_count": 9,
   "id": "367d60ae",
   "metadata": {},
   "outputs": [
    {
     "name": "stdout",
     "output_type": "stream",
     "text": [
      "영어 시퀀스의 최대 길이 4\n",
      "프랑스어 시퀀스의 최대 길이 12\n"
     ]
    }
   ],
   "source": [
    "max_eng_seq_len = max([len(line) for line in input_text])\n",
    "max_fra_seq_len = max([len(line) for line in target_text])\n",
    "print('영어 시퀀스의 최대 길이', max_eng_seq_len)\n",
    "print('프랑스어 시퀀스의 최대 길이', max_fra_seq_len)"
   ]
  },
  {
   "cell_type": "code",
   "execution_count": 10,
   "id": "141e2bf5",
   "metadata": {},
   "outputs": [
    {
     "name": "stdout",
     "output_type": "stream",
     "text": [
      "전체 샘플의 수 : 8800\n",
      "영어 단어장의 크기 : 1844\n",
      "프랑스어 단어장의 크기 : 3984\n",
      "영어 시퀀스의 최대 길이 4\n",
      "프랑스어 시퀀스의 최대 길이 12\n"
     ]
    }
   ],
   "source": [
    "print('전체 샘플의 수 :',len(lines))\n",
    "print('영어 단어장의 크기 :', eng_vocab_size)\n",
    "print('프랑스어 단어장의 크기 :', fra_vocab_size)\n",
    "print('영어 시퀀스의 최대 길이', max_eng_seq_len)\n",
    "print('프랑스어 시퀀스의 최대 길이', max_fra_seq_len)"
   ]
  },
  {
   "cell_type": "code",
   "execution_count": 11,
   "id": "d6b1c49b",
   "metadata": {},
   "outputs": [],
   "source": [
    "encoder_input = input_text\n",
    "# 종료 토큰 제거\n",
    "decoder_input = [[ char for char in line if char != fra_tokenizer.word_index[eos_token] ] for line in target_text] \n",
    "# 시작 토큰 제거\n",
    "decoder_target = [[ char for char in line if char != fra_tokenizer.word_index[sos_token] ] for line in target_text]"
   ]
  },
  {
   "cell_type": "code",
   "execution_count": 12,
   "id": "66c027fb",
   "metadata": {},
   "outputs": [
    {
     "name": "stdout",
     "output_type": "stream",
     "text": [
      "[[1, 37], [1, 210], [1, 22, 246]]\n",
      "[[37, 2], [210, 2], [22, 246, 2]]\n"
     ]
    }
   ],
   "source": [
    "print(decoder_input[:3])\n",
    "print(decoder_target[:3])"
   ]
  },
  {
   "cell_type": "code",
   "execution_count": 13,
   "id": "2b69e25e",
   "metadata": {},
   "outputs": [
    {
     "name": "stdout",
     "output_type": "stream",
     "text": [
      "영어 데이터의 크기(shape) : (8800, 4)\n",
      "프랑스어 입력데이터의 크기(shape) : (8800, 12)\n",
      "프랑스어 출력데이터의 크기(shape) : (8800, 12)\n"
     ]
    }
   ],
   "source": [
    "encoder_input = pad_sequences(encoder_input, maxlen = max_eng_seq_len, padding='post')\n",
    "decoder_input = pad_sequences(decoder_input, maxlen = max_fra_seq_len, padding='post')\n",
    "decoder_target = pad_sequences(decoder_target, maxlen = max_fra_seq_len, padding='post')\n",
    "print('영어 데이터의 크기(shape) :',np.shape(encoder_input))\n",
    "print('프랑스어 입력데이터의 크기(shape) :',np.shape(decoder_input))\n",
    "print('프랑스어 출력데이터의 크기(shape) :',np.shape(decoder_target))"
   ]
  },
  {
   "cell_type": "code",
   "execution_count": 14,
   "id": "77b1091c",
   "metadata": {},
   "outputs": [
    {
     "name": "stdout",
     "output_type": "stream",
     "text": [
      "[9 0 0 0]\n"
     ]
    }
   ],
   "source": [
    "print(encoder_input[0])"
   ]
  },
  {
   "cell_type": "code",
   "execution_count": 15,
   "id": "a683a200",
   "metadata": {},
   "outputs": [
    {
     "name": "stdout",
     "output_type": "stream",
     "text": [
      "영어 데이터의 크기(shape) : (8800, 4, 1844)\n",
      "프랑스어 입력데이터의 크기(shape) : (8800, 12, 3984)\n",
      "프랑스어 출력데이터의 크기(shape) : (8800, 12, 3984)\n"
     ]
    }
   ],
   "source": [
    "encoder_input = to_categorical(encoder_input)\n",
    "decoder_input = to_categorical(decoder_input)\n",
    "decoder_target = to_categorical(decoder_target)\n",
    "print('영어 데이터의 크기(shape) :',np.shape(encoder_input))\n",
    "print('프랑스어 입력데이터의 크기(shape) :',np.shape(decoder_input))\n",
    "print('프랑스어 출력데이터의 크기(shape) :',np.shape(decoder_target))"
   ]
  },
  {
   "cell_type": "code",
   "execution_count": 16,
   "id": "4c8e505d",
   "metadata": {},
   "outputs": [
    {
     "name": "stdout",
     "output_type": "stream",
     "text": [
      "영어 학습데이터의 크기(shape) : (8000, 4, 1844)\n",
      "프랑스어 학습 입력데이터의 크기(shape) : (8000, 12, 3984)\n",
      "프랑스어 학습 출력데이터의 크기(shape) : (8000, 12, 3984)\n"
     ]
    }
   ],
   "source": [
    "n_of_val = 800\n",
    "\n",
    "encoder_input_train = encoder_input[:-n_of_val]\n",
    "decoder_input_train = decoder_input[:-n_of_val]\n",
    "decoder_target_train = decoder_target[:-n_of_val]\n",
    "\n",
    "encoder_input_test = encoder_input[-n_of_val:]\n",
    "decoder_input_test = decoder_input[-n_of_val:]\n",
    "decoder_target_test = decoder_target[-n_of_val:]\n",
    "\n",
    "print('영어 학습데이터의 크기(shape) :',np.shape(encoder_input_train))\n",
    "print('프랑스어 학습 입력데이터의 크기(shape) :',np.shape(decoder_input_train))\n",
    "print('프랑스어 학습 출력데이터의 크기(shape) :',np.shape(decoder_target_train))"
   ]
  },
  {
   "cell_type": "code",
   "execution_count": 17,
   "id": "a61e9dda",
   "metadata": {},
   "outputs": [
    {
     "name": "stdout",
     "output_type": "stream",
     "text": [
      "⏳\n"
     ]
    }
   ],
   "source": [
    "from tensorflow.keras.layers import Input, LSTM, Embedding, Dense\n",
    "from tensorflow.keras.models import Model\n",
    "\n",
    "print('⏳')"
   ]
  },
  {
   "cell_type": "code",
   "execution_count": 18,
   "id": "be050da9",
   "metadata": {},
   "outputs": [],
   "source": [
    "# 입력 텐서 생성.\n",
    "encoder_inputs = Input(shape=(None, eng_vocab_size))\n",
    "# hidden size가 256인 인코더의 LSTM 셀 생성\n",
    "encoder_lstm = LSTM(units = 256, return_state = True)\n",
    "# 디코더로 전달할 hidden state, cell state를 리턴. encoder_outputs은 여기서는 불필요.\n",
    "encoder_outputs, state_h, state_c = encoder_lstm(encoder_inputs)\n",
    "# hidden state와 cell state를 다음 time step으로 전달하기 위해서 별도 저장.\n",
    "encoder_states = [state_h, state_c]"
   ]
  },
  {
   "cell_type": "code",
   "execution_count": 19,
   "id": "acdccd08",
   "metadata": {},
   "outputs": [],
   "source": [
    "# 입력 텐서 생성.\n",
    "decoder_inputs = Input(shape=(None, fra_vocab_size))\n",
    "# hidden size가 256인 인코더의 LSTM 셀 생성\n",
    "decoder_lstm = LSTM(units = 256, return_sequences = True, return_state=True)\n",
    "# decoder_outputs는 모든 time step의 hidden state\n",
    "decoder_outputs, _, _= decoder_lstm(decoder_inputs, initial_state = encoder_states)"
   ]
  },
  {
   "cell_type": "code",
   "execution_count": 20,
   "id": "5237bd29",
   "metadata": {},
   "outputs": [],
   "source": [
    "decoder_softmax_layer = Dense(fra_vocab_size, activation='softmax')\n",
    "decoder_outputs = decoder_softmax_layer(decoder_outputs)"
   ]
  },
  {
   "cell_type": "code",
   "execution_count": 21,
   "id": "0419d570",
   "metadata": {},
   "outputs": [
    {
     "name": "stdout",
     "output_type": "stream",
     "text": [
      "Model: \"model\"\n",
      "__________________________________________________________________________________________________\n",
      "Layer (type)                    Output Shape         Param #     Connected to                     \n",
      "==================================================================================================\n",
      "input_1 (InputLayer)            [(None, None, 1844)] 0                                            \n",
      "__________________________________________________________________________________________________\n",
      "input_2 (InputLayer)            [(None, None, 3984)] 0                                            \n",
      "__________________________________________________________________________________________________\n",
      "lstm (LSTM)                     [(None, 256), (None, 2151424     input_1[0][0]                    \n",
      "__________________________________________________________________________________________________\n",
      "lstm_1 (LSTM)                   [(None, None, 256),  4342784     input_2[0][0]                    \n",
      "                                                                 lstm[0][1]                       \n",
      "                                                                 lstm[0][2]                       \n",
      "__________________________________________________________________________________________________\n",
      "dense (Dense)                   (None, None, 3984)   1023888     lstm_1[0][0]                     \n",
      "==================================================================================================\n",
      "Total params: 7,518,096\n",
      "Trainable params: 7,518,096\n",
      "Non-trainable params: 0\n",
      "__________________________________________________________________________________________________\n"
     ]
    }
   ],
   "source": [
    "model = Model([encoder_inputs, decoder_inputs], decoder_outputs)\n",
    "model.compile(optimizer=\"rmsprop\", loss=\"categorical_crossentropy\")\n",
    "model.summary()"
   ]
  },
  {
   "cell_type": "code",
   "execution_count": 22,
   "id": "b4f973f7",
   "metadata": {},
   "outputs": [
    {
     "name": "stdout",
     "output_type": "stream",
     "text": [
      "Epoch 1/50\n",
      "63/63 [==============================] - 8s 59ms/step - loss: 2.5610 - val_loss: 2.1129\n",
      "Epoch 2/50\n",
      "63/63 [==============================] - 2s 36ms/step - loss: 1.8031 - val_loss: 1.9854\n",
      "Epoch 3/50\n",
      "63/63 [==============================] - 2s 36ms/step - loss: 1.6921 - val_loss: 1.9276\n",
      "Epoch 4/50\n",
      "63/63 [==============================] - 2s 36ms/step - loss: 1.5970 - val_loss: 1.8463\n",
      "Epoch 5/50\n",
      "63/63 [==============================] - 2s 36ms/step - loss: 1.5056 - val_loss: 1.7772\n",
      "Epoch 6/50\n",
      "63/63 [==============================] - 2s 36ms/step - loss: 1.4205 - val_loss: 1.7335\n",
      "Epoch 7/50\n",
      "63/63 [==============================] - 2s 36ms/step - loss: 1.3354 - val_loss: 1.6895\n",
      "Epoch 8/50\n",
      "63/63 [==============================] - 2s 36ms/step - loss: 1.2569 - val_loss: 1.6168\n",
      "Epoch 9/50\n",
      "63/63 [==============================] - 2s 36ms/step - loss: 1.1858 - val_loss: 1.5919\n",
      "Epoch 10/50\n",
      "63/63 [==============================] - 2s 35ms/step - loss: 1.1267 - val_loss: 1.5456\n",
      "Epoch 11/50\n",
      "63/63 [==============================] - 2s 37ms/step - loss: 1.0720 - val_loss: 1.5276\n",
      "Epoch 12/50\n",
      "63/63 [==============================] - 2s 36ms/step - loss: 1.0229 - val_loss: 1.5231\n",
      "Epoch 13/50\n",
      "63/63 [==============================] - 2s 36ms/step - loss: 0.9788 - val_loss: 1.5014\n",
      "Epoch 14/50\n",
      "63/63 [==============================] - 2s 36ms/step - loss: 0.9367 - val_loss: 1.4637\n",
      "Epoch 15/50\n",
      "63/63 [==============================] - 2s 37ms/step - loss: 0.8981 - val_loss: 1.4501\n",
      "Epoch 16/50\n",
      "63/63 [==============================] - 2s 36ms/step - loss: 0.8600 - val_loss: 1.4497\n",
      "Epoch 17/50\n",
      "63/63 [==============================] - 2s 35ms/step - loss: 0.8243 - val_loss: 1.4371\n",
      "Epoch 18/50\n",
      "63/63 [==============================] - 2s 36ms/step - loss: 0.7915 - val_loss: 1.4640\n",
      "Epoch 19/50\n",
      "63/63 [==============================] - 2s 36ms/step - loss: 0.7598 - val_loss: 1.4557\n",
      "Epoch 20/50\n",
      "63/63 [==============================] - 2s 36ms/step - loss: 0.7279 - val_loss: 1.4526\n",
      "Epoch 21/50\n",
      "63/63 [==============================] - 2s 36ms/step - loss: 0.6988 - val_loss: 1.4627\n",
      "Epoch 22/50\n",
      "63/63 [==============================] - 2s 36ms/step - loss: 0.6705 - val_loss: 1.4543\n",
      "Epoch 23/50\n",
      "63/63 [==============================] - 2s 36ms/step - loss: 0.6442 - val_loss: 1.4354\n",
      "Epoch 24/50\n",
      "63/63 [==============================] - 2s 37ms/step - loss: 0.6185 - val_loss: 1.4289\n",
      "Epoch 25/50\n",
      "63/63 [==============================] - 2s 37ms/step - loss: 0.5948 - val_loss: 1.4173\n",
      "Epoch 26/50\n",
      "63/63 [==============================] - 2s 36ms/step - loss: 0.5717 - val_loss: 1.4221\n",
      "Epoch 27/50\n",
      "63/63 [==============================] - 2s 37ms/step - loss: 0.5484 - val_loss: 1.4104\n",
      "Epoch 28/50\n",
      "63/63 [==============================] - 2s 36ms/step - loss: 0.5273 - val_loss: 1.4167\n",
      "Epoch 29/50\n",
      "63/63 [==============================] - 2s 36ms/step - loss: 0.5074 - val_loss: 1.4134\n",
      "Epoch 30/50\n",
      "63/63 [==============================] - 2s 36ms/step - loss: 0.4860 - val_loss: 1.4287\n",
      "Epoch 31/50\n",
      "63/63 [==============================] - 2s 36ms/step - loss: 0.4672 - val_loss: 1.4104\n",
      "Epoch 32/50\n",
      "63/63 [==============================] - 2s 36ms/step - loss: 0.4486 - val_loss: 1.4153\n",
      "Epoch 33/50\n",
      "63/63 [==============================] - 2s 36ms/step - loss: 0.4311 - val_loss: 1.4079\n",
      "Epoch 34/50\n",
      "63/63 [==============================] - 2s 36ms/step - loss: 0.4141 - val_loss: 1.4157\n",
      "Epoch 35/50\n",
      "63/63 [==============================] - 2s 36ms/step - loss: 0.3987 - val_loss: 1.4119\n",
      "Epoch 36/50\n",
      "63/63 [==============================] - 2s 36ms/step - loss: 0.3835 - val_loss: 1.4102\n",
      "Epoch 37/50\n",
      "63/63 [==============================] - 2s 37ms/step - loss: 0.3686 - val_loss: 1.4313\n",
      "Epoch 38/50\n",
      "63/63 [==============================] - 2s 36ms/step - loss: 0.3552 - val_loss: 1.3903\n",
      "Epoch 39/50\n",
      "63/63 [==============================] - 2s 36ms/step - loss: 0.3416 - val_loss: 1.4198\n",
      "Epoch 40/50\n",
      "63/63 [==============================] - 2s 36ms/step - loss: 0.3296 - val_loss: 1.3976\n",
      "Epoch 41/50\n",
      "63/63 [==============================] - 2s 37ms/step - loss: 0.3174 - val_loss: 1.4040\n",
      "Epoch 42/50\n",
      "63/63 [==============================] - 2s 36ms/step - loss: 0.3053 - val_loss: 1.4221\n",
      "Epoch 43/50\n",
      "63/63 [==============================] - 2s 35ms/step - loss: 0.2951 - val_loss: 1.4108\n",
      "Epoch 44/50\n",
      "63/63 [==============================] - 2s 36ms/step - loss: 0.2837 - val_loss: 1.3959\n",
      "Epoch 45/50\n",
      "63/63 [==============================] - 2s 36ms/step - loss: 0.2749 - val_loss: 1.4099\n",
      "Epoch 46/50\n",
      "63/63 [==============================] - 2s 36ms/step - loss: 0.2655 - val_loss: 1.3971\n",
      "Epoch 47/50\n",
      "63/63 [==============================] - 2s 36ms/step - loss: 0.2556 - val_loss: 1.4112\n",
      "Epoch 48/50\n",
      "63/63 [==============================] - 2s 36ms/step - loss: 0.2480 - val_loss: 1.4000\n",
      "Epoch 49/50\n",
      "63/63 [==============================] - 2s 36ms/step - loss: 0.2399 - val_loss: 1.4318\n",
      "Epoch 50/50\n",
      "63/63 [==============================] - 2s 36ms/step - loss: 0.2325 - val_loss: 1.4136\n"
     ]
    },
    {
     "data": {
      "text/plain": [
       "<keras.callbacks.History at 0x7f959b7e8a90>"
      ]
     },
     "execution_count": 22,
     "metadata": {},
     "output_type": "execute_result"
    }
   ],
   "source": [
    "model.fit(x=[encoder_input_train, decoder_input_train], y=decoder_target_train, \\\n",
    "          validation_data = ([encoder_input_test, decoder_input_test], decoder_target_test),\n",
    "          batch_size=128, epochs=50)"
   ]
  },
  {
   "cell_type": "code",
   "execution_count": 23,
   "id": "f6a90c32",
   "metadata": {},
   "outputs": [
    {
     "name": "stdout",
     "output_type": "stream",
     "text": [
      "Model: \"model_1\"\n",
      "_________________________________________________________________\n",
      "Layer (type)                 Output Shape              Param #   \n",
      "=================================================================\n",
      "input_1 (InputLayer)         [(None, None, 1844)]      0         \n",
      "_________________________________________________________________\n",
      "lstm (LSTM)                  [(None, 256), (None, 256) 2151424   \n",
      "=================================================================\n",
      "Total params: 2,151,424\n",
      "Trainable params: 2,151,424\n",
      "Non-trainable params: 0\n",
      "_________________________________________________________________\n"
     ]
    }
   ],
   "source": [
    "encoder_model = Model(inputs = encoder_inputs, outputs = encoder_states)\n",
    "encoder_model.summary()"
   ]
  },
  {
   "cell_type": "code",
   "execution_count": 24,
   "id": "ed56b0a5",
   "metadata": {},
   "outputs": [],
   "source": [
    "# 이전 time step의 hidden state를 저장하는 텐서\n",
    "decoder_state_input_h = Input(shape=(256,))\n",
    "# 이전 time step의 cell state를 저장하는 텐서\n",
    "decoder_state_input_c = Input(shape=(256,))\n",
    "# 이전 time step의 hidden state와 cell state를 하나의 변수에 저장\n",
    "decoder_states_inputs = [decoder_state_input_h, decoder_state_input_c]\n",
    "\n",
    "# decoder_states_inputs를 현재 time step의 초기 상태로 사용.\n",
    "# 구체적인 동작 자체는 def decode_sequence()에 구현.\n",
    "decoder_outputs, state_h, state_c = decoder_lstm(decoder_inputs, initial_state = decoder_states_inputs)\n",
    "# 현재 time step의 hidden state와 cell state를 하나의 변수에 저장.\n",
    "decoder_states = [state_h, state_c]"
   ]
  },
  {
   "cell_type": "code",
   "execution_count": 25,
   "id": "f0a7cee8",
   "metadata": {},
   "outputs": [
    {
     "name": "stdout",
     "output_type": "stream",
     "text": [
      "Model: \"model_2\"\n",
      "__________________________________________________________________________________________________\n",
      "Layer (type)                    Output Shape         Param #     Connected to                     \n",
      "==================================================================================================\n",
      "input_2 (InputLayer)            [(None, None, 3984)] 0                                            \n",
      "__________________________________________________________________________________________________\n",
      "input_3 (InputLayer)            [(None, 256)]        0                                            \n",
      "__________________________________________________________________________________________________\n",
      "input_4 (InputLayer)            [(None, 256)]        0                                            \n",
      "__________________________________________________________________________________________________\n",
      "lstm_1 (LSTM)                   [(None, None, 256),  4342784     input_2[0][0]                    \n",
      "                                                                 input_3[0][0]                    \n",
      "                                                                 input_4[0][0]                    \n",
      "__________________________________________________________________________________________________\n",
      "dense (Dense)                   (None, None, 3984)   1023888     lstm_1[1][0]                     \n",
      "==================================================================================================\n",
      "Total params: 5,366,672\n",
      "Trainable params: 5,366,672\n",
      "Non-trainable params: 0\n",
      "__________________________________________________________________________________________________\n"
     ]
    }
   ],
   "source": [
    "decoder_outputs = decoder_softmax_layer(decoder_outputs)\n",
    "decoder_model = Model(inputs=[decoder_inputs] + decoder_states_inputs, outputs=[decoder_outputs] + decoder_states)\n",
    "decoder_model.summary()"
   ]
  },
  {
   "cell_type": "code",
   "execution_count": 26,
   "id": "93a5ef9a",
   "metadata": {},
   "outputs": [],
   "source": [
    "eng2idx = eng_tokenizer.word_index\n",
    "fra2idx = fra_tokenizer.word_index\n",
    "idx2eng = eng_tokenizer.index_word\n",
    "idx2fra = fra_tokenizer.index_word"
   ]
  },
  {
   "cell_type": "code",
   "execution_count": 27,
   "id": "479e604e",
   "metadata": {},
   "outputs": [],
   "source": [
    "def decode_sequence(input_seq):\n",
    "    # 입력으로부터 인코더의 상태를 얻음\n",
    "    states_value = encoder_model.predict(input_seq)\n",
    "\n",
    "    # <SOS>에 해당하는 원-핫 벡터 생성\n",
    "    target_seq = np.zeros((1, 1, fra_vocab_size))\n",
    "    target_seq[0, 0, fra2idx['sos']] = 1.\n",
    "\n",
    "    stop_condition = False\n",
    "    decoded_sentence = \"\"\n",
    "\n",
    "    # stop_condition이 True가 될 때까지 루프 반복\n",
    "    while not stop_condition:\n",
    "        # 이점 시점의 상태 states_value를 현 시점의 초기 상태로 사용\n",
    "        output_tokens, h, c = decoder_model.predict([target_seq] + states_value)\n",
    "\n",
    "        # 예측 결과를 문자로 변환\n",
    "        sampled_token_index = np.argmax(output_tokens[0, -1, :])\n",
    "        sampled_char = idx2fra[sampled_token_index]\n",
    "\n",
    "        # 현재 시점의 예측 문자를 예측 문장에 추가\n",
    "        decoded_sentence += sampled_char\n",
    "\n",
    "        # <eos>에 도달하거나 최대 길이를 넘으면 중단.\n",
    "        if (sampled_char == 'eos' or\n",
    "           len(decoded_sentence) > max_fra_seq_len):\n",
    "            stop_condition = True\n",
    "\n",
    "        # 현재 시점의 예측 결과를 다음 시점의 입력으로 사용하기 위해 저장\n",
    "        target_seq = np.zeros((1, 1, fra_vocab_size))\n",
    "        target_seq[0, 0, sampled_token_index] = 1.\n",
    "\n",
    "        # 현재 시점의 상태를 다음 시점의 상태로 사용하기 위해 저장\n",
    "        states_value = [h, c]\n",
    "\n",
    "    return decoded_sentence"
   ]
  },
  {
   "cell_type": "code",
   "execution_count": 28,
   "id": "756d7a50",
   "metadata": {},
   "outputs": [
    {
     "name": "stdout",
     "output_type": "stream",
     "text": [
      "-----------------------------------\n",
      "입력 문장: ['go']\n",
      "정답 문장: ['bouge']\n",
      "번역기가 번역한 문장: va\n",
      "-----------------------------------\n",
      "입력 문장: ['hello']\n",
      "정답 문장: ['bonjour']\n",
      "번역기가 번역한 문장: bonjour\n",
      "-----------------------------------\n",
      "입력 문장: ['got', 'it']\n",
      "정답 문장: ['compris']\n",
      "번역기가 번역한 문장: ça\n",
      "-----------------------------------\n",
      "입력 문장: ['goodbye']\n",
      "정답 문장: ['au', 'revoir']\n",
      "번역기가 번역한 문장: ciao\n",
      "-----------------------------------\n",
      "입력 문장: ['hands', 'off']\n",
      "정답 문장: ['pas', 'touche\\u202f']\n",
      "번역기가 번역한 문장: pastouche \n"
     ]
    }
   ],
   "source": [
    "import numpy as np\n",
    "for seq_index in [3,50,100,300,1001]: # 입력 문장의 인덱스 (자유롭게 선택해 보세요)\n",
    "    input_seq = encoder_input[seq_index: seq_index + 1]\n",
    "    decoded_sentence = decode_sequence(input_seq)\n",
    "    print(35 * \"-\")\n",
    "    print('입력 문장:', lines.eng[seq_index])\n",
    "    print('정답 문장:', lines.fra[seq_index][1:len(lines.fra[seq_index])-1]) # '\\t'와 '\\n'을 빼고 출력\n",
    "    print('번역기가 번역한 문장:', decoded_sentence[:len(decoded_sentence)-3]) # '\\n'을 빼고 출력"
   ]
  },
  {
   "cell_type": "code",
   "execution_count": null,
   "id": "38a3f6e6",
   "metadata": {},
   "outputs": [],
   "source": []
  }
 ],
 "metadata": {
  "kernelspec": {
   "display_name": "Python 3 (ipykernel)",
   "language": "python",
   "name": "python3"
  },
  "language_info": {
   "codemirror_mode": {
    "name": "ipython",
    "version": 3
   },
   "file_extension": ".py",
   "mimetype": "text/x-python",
   "name": "python",
   "nbconvert_exporter": "python",
   "pygments_lexer": "ipython3",
   "version": "3.9.7"
  }
 },
 "nbformat": 4,
 "nbformat_minor": 5
}
