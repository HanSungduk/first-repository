{
 "cells": [
  {
   "cell_type": "markdown",
   "id": "7eb70b97",
   "metadata": {},
   "source": [
    "## Boston 주택 가격 예측 모델\n",
    "Boston 주택 가격 예측 모델에서 사용되는 데이터셋은 보스턴 시의 주택 가격 데이터셋으로, 주택의 여러 요건과 가격 정보가 포함되어 있습니다.\n",
    "\n",
    "데이터셋의 feature에 대한 설명\n",
    "feature\t설명\n",
    "CRIM\t자치시별 1인당 범죄율\n",
    "    ZN\t25,000 평방피트를 초과하는 거주지역의 비율\n",
    "INDUS\t비소매상업지역이 점유하고 있는 토지의 비율\n",
    "CHAS\t찰스강에 대한 더미변수(강의 경계에 위치한 경우는 1, 아니면 0)\n",
    "    NOX\t10ppm 당 농축 일산화질소\n",
    "    RM\t주택 1 가구당 평균 방의 개수\n",
    "    AGE\t1940년 이전에 건축된 소유주택의 비율\n",
    "    DIS\t5개의 보스턴 직업센터까지의 접근성 지수\n",
    "    RAD\t방사형 도로까지의 접근성 지수\n",
    "    TAX\t10,000 달러당 재산세율\n",
    "PTRATIO\t자치시(town)별 학생/교사 비율\n",
    "    B\t1000(Bk−0.63)2\n",
    "1000(Bk−0.63) \n",
    "2\n",
    " , 여기서Bk는 자치시별 흑인의 비율을 말함\n",
    "LSTAT\t모집단의 하위계층의 비율(%)\n",
    "MEDV\t본인 소유의 주택가격(중앙값)(단위: $1,000)"
   ]
  },
  {
   "cell_type": "markdown",
   "id": "0e21895e",
   "metadata": {},
   "source": [
    "### 데이터 로드 및 전처리\n",
    "먼저 데이터를 불러와 확인해 보고 전처리를 해 봅시다.\n",
    "데이터셋은 keras.datasets에서 불러올 수 있는 boston_housing 데이터셋을 활용합니다."
   ]
  },
  {
   "cell_type": "code",
   "execution_count": 31,
   "id": "53a8419c",
   "metadata": {},
   "outputs": [],
   "source": [
    "import tensorflow as tf\n",
    "from tensorflow import keras\n",
    "from tensorflow.keras import models, layers, optimizers, utils\n",
    "import matplotlib.pyplot as plt"
   ]
  },
  {
   "cell_type": "code",
   "execution_count": 32,
   "id": "f7fbd4a5",
   "metadata": {},
   "outputs": [
    {
     "name": "stdout",
     "output_type": "stream",
     "text": [
      "404 404\n",
      "102 102\n"
     ]
    }
   ],
   "source": [
    "# keras.datasets 안의 boston_housing 데이터셋을 로드합니다.\n",
    "from keras.datasets import boston_housing\n",
    "\n",
    "(train_data, train_labels), (test_data, test_labels) = boston_housing.load_data()\n",
    "\n",
    "# 데이터셋의 크기를 확인합니다.\n",
    "print(len(train_data), len(train_labels))\n",
    "print(len(test_data), len(test_labels))"
   ]
  },
  {
   "cell_type": "code",
   "execution_count": 33,
   "id": "f6f209a9",
   "metadata": {},
   "outputs": [],
   "source": [
    "# 문제 1-1: 데이터셋의 전처리를 위해 표준화 작업을 수행합니다.\n",
    "# 먼저 입력 데이터의 각 특성의 평균을 뺍니다.\n",
    "mean = train_data.mean(axis=0)\n",
    "train_data = train_data - mean\n",
    "\n",
    "# 평균을 뺀 입력 데이터에서 표준편차를 나눕니다\n",
    "# 데이터 특성의 중앙이 0에 가깝게 만들고 표준편차가 1이 되게 만듭니다.\n",
    "std = train_data.std(axis=0)\n",
    "train_data = train_data / std\n",
    "\n",
    "# 테스트 데이터셋도 마찬가지로 평균을 빼고 표준편차를 나눕니다\n",
    "test_data = test_data - mean\n",
    "test_data = test_data / std"
   ]
  },
  {
   "cell_type": "markdown",
   "id": "dc51e304",
   "metadata": {},
   "source": [
    "### 모델 구성 및 컴파일\n",
    "주택 가격 예측을 위한 딥러닝 모델을 구성하고 컴파일합니다. Sequential() 함수를 이용한 Sequential API 방법으로 딥러닝 모델을 구성해 보세요."
   ]
  },
  {
   "cell_type": "code",
   "execution_count": 34,
   "id": "dcd5d3bc",
   "metadata": {},
   "outputs": [
    {
     "name": "stdout",
     "output_type": "stream",
     "text": [
      "Model: \"sequential_3\"\n",
      "_________________________________________________________________\n",
      "Layer (type)                 Output Shape              Param #   \n",
      "=================================================================\n",
      "dense_3 (Dense)              (None, 1)                 14        \n",
      "=================================================================\n",
      "Total params: 14\n",
      "Trainable params: 14\n",
      "Non-trainable params: 0\n",
      "_________________________________________________________________\n"
     ]
    }
   ],
   "source": [
    "# 문제 1-2: 주택 가격 예측을 위한 딥러닝 모델 구성 및 컴파일 합니다.\n",
    "# input_shape은 (train_data.shape[1], )으로 구성합니다.\n",
    "model = keras.Sequential()\n",
    "model.add(layers.Dense(1, activation='linear', input_shape=(train_data.shape[1],)))\n",
    "model.summary()"
   ]
  },
  {
   "cell_type": "code",
   "execution_count": 35,
   "id": "c23cb4f3",
   "metadata": {},
   "outputs": [
    {
     "data": {
      "image/png": "[encoded data removed]",
      "text/plain": [
       "<IPython.core.display.Image object>"
      ]
     },
     "execution_count": 35,
     "metadata": {},
     "output_type": "execute_result"
    }
   ],
   "source": [
    "utils.plot_model(model)"
   ]
  },
  {
   "cell_type": "code",
   "execution_count": 36,
   "id": "07fc2473",
   "metadata": {},
   "outputs": [],
   "source": [
    "# 회귀(예측)을 위한 모델이므로 loss를 mse, metrics를 mae로 사용합니다\n",
    "optimizer = optimizers.SGD()\n",
    "model.compile(loss='mse', optimizer=optimizer, metrics=['mae'])"
   ]
  },
  {
   "cell_type": "markdown",
   "id": "e29fa376",
   "metadata": {},
   "source": [
    "### 모델 학습\n",
    "epochs와 batch size는 자유롭게 설정해 보세요. 모델 학습 후에는 모델 학습 결과를 시각화해 보세요."
   ]
  },
  {
   "cell_type": "code",
   "execution_count": 37,
   "id": "c6fd17d5",
   "metadata": {},
   "outputs": [
    {
     "name": "stdout",
     "output_type": "stream",
     "text": [
      "Epoch 1/40\n",
      "4/4 [==============================] - 0s 32ms/step - loss: 542.8224 - mae: 21.9131 - val_loss: 494.9179 - val_mae: 21.0621\n",
      "Epoch 2/40\n",
      "4/4 [==============================] - 0s 7ms/step - loss: 460.5232 - mae: 20.2380 - val_loss: 426.0957 - val_mae: 19.4410\n",
      "Epoch 3/40\n",
      "4/4 [==============================] - 0s 7ms/step - loss: 398.4227 - mae: 18.6920 - val_loss: 364.6784 - val_mae: 17.9367\n",
      "Epoch 4/40\n",
      "4/4 [==============================] - 0s 7ms/step - loss: 341.4125 - mae: 17.2303 - val_loss: 310.8202 - val_mae: 16.5087\n",
      "Epoch 5/40\n",
      "4/4 [==============================] - 0s 7ms/step - loss: 294.0036 - mae: 15.9160 - val_loss: 264.0554 - val_mae: 15.1597\n",
      "Epoch 6/40\n",
      "4/4 [==============================] - 0s 7ms/step - loss: 251.2022 - mae: 14.6313 - val_loss: 222.1282 - val_mae: 13.8654\n",
      "Epoch 7/40\n",
      "4/4 [==============================] - 0s 7ms/step - loss: 215.4963 - mae: 13.4769 - val_loss: 196.2729 - val_mae: 12.8515\n",
      "Epoch 8/40\n",
      "4/4 [==============================] - 0s 7ms/step - loss: 188.6047 - mae: 12.4343 - val_loss: 170.6749 - val_mae: 11.8627\n",
      "Epoch 9/40\n",
      "4/4 [==============================] - 0s 7ms/step - loss: 165.2012 - mae: 11.4992 - val_loss: 146.9574 - val_mae: 10.9150\n",
      "Epoch 10/40\n",
      "4/4 [==============================] - 0s 7ms/step - loss: 143.7095 - mae: 10.5889 - val_loss: 126.8801 - val_mae: 10.0756\n",
      "Epoch 11/40\n",
      "4/4 [==============================] - 0s 7ms/step - loss: 125.8890 - mae: 9.7557 - val_loss: 111.2600 - val_mae: 9.3543\n",
      "Epoch 12/40\n",
      "4/4 [==============================] - 0s 7ms/step - loss: 111.2476 - mae: 9.0303 - val_loss: 96.5212 - val_mae: 8.6258\n",
      "Epoch 13/40\n",
      "4/4 [==============================] - 0s 7ms/step - loss: 98.6262 - mae: 8.3496 - val_loss: 84.0542 - val_mae: 7.9570\n",
      "Epoch 14/40\n",
      "4/4 [==============================] - 0s 7ms/step - loss: 87.9413 - mae: 7.7211 - val_loss: 75.0613 - val_mae: 7.4058\n",
      "Epoch 15/40\n",
      "4/4 [==============================] - 0s 7ms/step - loss: 78.3082 - mae: 7.1320 - val_loss: 67.1769 - val_mae: 6.8945\n",
      "Epoch 16/40\n",
      "4/4 [==============================] - 0s 7ms/step - loss: 70.1334 - mae: 6.6024 - val_loss: 60.7447 - val_mae: 6.4325\n",
      "Epoch 17/40\n",
      "4/4 [==============================] - 0s 7ms/step - loss: 62.7358 - mae: 6.1369 - val_loss: 54.6316 - val_mae: 5.9910\n",
      "Epoch 18/40\n",
      "4/4 [==============================] - 0s 7ms/step - loss: 57.3803 - mae: 5.7215 - val_loss: 49.7470 - val_mae: 5.6061\n",
      "Epoch 19/40\n",
      "4/4 [==============================] - 0s 7ms/step - loss: 52.5136 - mae: 5.3816 - val_loss: 44.5282 - val_mae: 5.2282\n",
      "Epoch 20/40\n",
      "4/4 [==============================] - 0s 7ms/step - loss: 48.3037 - mae: 5.0366 - val_loss: 40.9140 - val_mae: 4.9217\n",
      "Epoch 21/40\n",
      "4/4 [==============================] - 0s 6ms/step - loss: 44.9942 - mae: 4.7448 - val_loss: 37.6059 - val_mae: 4.6458\n",
      "Epoch 22/40\n",
      "4/4 [==============================] - 0s 7ms/step - loss: 41.9407 - mae: 4.4967 - val_loss: 36.3168 - val_mae: 4.5069\n",
      "Epoch 23/40\n",
      "4/4 [==============================] - 0s 7ms/step - loss: 39.3902 - mae: 4.2939 - val_loss: 33.2618 - val_mae: 4.2743\n",
      "Epoch 24/40\n",
      "4/4 [==============================] - 0s 7ms/step - loss: 36.9735 - mae: 4.0793 - val_loss: 31.4623 - val_mae: 4.1316\n",
      "Epoch 25/40\n",
      "4/4 [==============================] - 0s 7ms/step - loss: 35.2286 - mae: 3.9268 - val_loss: 29.3179 - val_mae: 3.9486\n",
      "Epoch 26/40\n",
      "4/4 [==============================] - 0s 6ms/step - loss: 33.7715 - mae: 3.7696 - val_loss: 28.5657 - val_mae: 3.8973\n",
      "Epoch 27/40\n",
      "4/4 [==============================] - 0s 7ms/step - loss: 32.2994 - mae: 3.6919 - val_loss: 27.2454 - val_mae: 3.7862\n",
      "Epoch 28/40\n",
      "4/4 [==============================] - 0s 7ms/step - loss: 31.0884 - mae: 3.5863 - val_loss: 26.9774 - val_mae: 3.7626\n",
      "Epoch 29/40\n",
      "4/4 [==============================] - 0s 7ms/step - loss: 30.0421 - mae: 3.5399 - val_loss: 25.9178 - val_mae: 3.6801\n",
      "Epoch 30/40\n",
      "4/4 [==============================] - 0s 7ms/step - loss: 29.0503 - mae: 3.4614 - val_loss: 25.2732 - val_mae: 3.6213\n",
      "Epoch 31/40\n",
      "4/4 [==============================] - 0s 7ms/step - loss: 28.3223 - mae: 3.4090 - val_loss: 25.3580 - val_mae: 3.6279\n",
      "Epoch 32/40\n",
      "4/4 [==============================] - 0s 7ms/step - loss: 27.5962 - mae: 3.4022 - val_loss: 24.3277 - val_mae: 3.5504\n",
      "Epoch 33/40\n",
      "4/4 [==============================] - 0s 8ms/step - loss: 26.9600 - mae: 3.3406 - val_loss: 24.6345 - val_mae: 3.5504\n",
      "Epoch 34/40\n",
      "4/4 [==============================] - 0s 8ms/step - loss: 26.5711 - mae: 3.3340 - val_loss: 24.1347 - val_mae: 3.5038\n",
      "Epoch 35/40\n",
      "4/4 [==============================] - 0s 7ms/step - loss: 26.0570 - mae: 3.2995 - val_loss: 23.1981 - val_mae: 3.4479\n",
      "Epoch 36/40\n",
      "4/4 [==============================] - 0s 7ms/step - loss: 25.6559 - mae: 3.2518 - val_loss: 23.5806 - val_mae: 3.4537\n",
      "Epoch 37/40\n",
      "4/4 [==============================] - 0s 7ms/step - loss: 25.4061 - mae: 3.2813 - val_loss: 22.6335 - val_mae: 3.4067\n",
      "Epoch 38/40\n",
      "4/4 [==============================] - 0s 7ms/step - loss: 25.0947 - mae: 3.2371 - val_loss: 22.3455 - val_mae: 3.3918\n",
      "Epoch 39/40\n",
      "4/4 [==============================] - 0s 9ms/step - loss: 24.9570 - mae: 3.2219 - val_loss: 22.7358 - val_mae: 3.4066\n",
      "Epoch 40/40\n",
      "4/4 [==============================] - 0s 7ms/step - loss: 24.7675 - mae: 3.2430 - val_loss: 22.1481 - val_mae: 3.3751\n"
     ]
    }
   ],
   "source": [
    "# 문제 1-3: 예측을 위한 딥러닝 모델을 학습합니다.\n",
    "history = model.fit(train_data, train_labels, epochs=40, batch_size=128, validation_data=(test_data, test_labels))"
   ]
  },
  {
   "cell_type": "code",
   "execution_count": 38,
   "id": "ebd03048",
   "metadata": {
    "scrolled": true
   },
   "outputs": [
    {
     "data": {
      "image/png": "[encoded data removed]",
      "text/plain": [
       "<Figure size 864x360 with 2 Axes>"
      ]
     },
     "metadata": {},
     "output_type": "display_data"
    }
   ],
   "source": [
    "# 모델 학습 히스토리에서 loss, val_loss, mae, val_mae를 차트로 보여줍니다.\n",
    "# plt.plot(history.history['mae'])\n",
    "# plt.plot(history.history['mse'])\n",
    "# plt.xlabel('Epoch')\n",
    "# plt.legend(['mae','mse'])\n",
    "# plt.show();\n",
    "\n",
    "plt.style.use('seaborn-white')\n",
    "\n",
    "history_dict = history.history\n",
    "\n",
    "loss = history_dict['loss']\n",
    "val_loss = history_dict['val_loss']\n",
    "\n",
    "epochs = range(1, len(loss) + 1)\n",
    "fig = plt.figure(figsize=(12, 5))\n",
    "\n",
    "ax1 = fig.add_subplot(1, 2, 1)\n",
    "ax1.plot(epochs, loss, 'b-', label='train_loss')\n",
    "ax1.plot(epochs, val_loss, 'r-', label='val_loss')\n",
    "ax1.set_title('Train and Validation Loss')\n",
    "ax1.set_xlabel('Epochs')\n",
    "ax1.set_ylabel('Loss')\n",
    "ax1.grid()\n",
    "ax1.legend()\n",
    "\n",
    "mae = history_dict['mae']\n",
    "val_mae = history_dict['val_mae']\n",
    "\n",
    "ax2 = fig.add_subplot(1, 2, 2)\n",
    "ax2.plot(epochs, mae, 'b-', label='train_mae')\n",
    "ax2.plot(epochs, val_mae, 'r-', label='val_mae')\n",
    "ax2.set_title('Train and Validation MAE')\n",
    "ax2.set_xlabel('Epochs')\n",
    "ax2.set_ylabel('Accuracy')\n",
    "ax2.grid()\n",
    "ax2.legend()\n",
    "\n",
    "plt.show()"
   ]
  },
  {
   "cell_type": "markdown",
   "id": "768f44c9",
   "metadata": {},
   "source": [
    "### 모델 평가 및 예측\n",
    "테스트 데이터를 가져와 모델 성능을 평가해 보겠습니다."
   ]
  },
  {
   "cell_type": "code",
   "execution_count": 39,
   "id": "854d255b",
   "metadata": {},
   "outputs": [
    {
     "name": "stdout",
     "output_type": "stream",
     "text": [
      "4/4 [==============================] - 0s 2ms/step - loss: 22.1481 - mae: 3.3751\n"
     ]
    },
    {
     "data": {
      "text/plain": [
       "[22.148136138916016, 3.3751025199890137]"
      ]
     },
     "execution_count": 39,
     "metadata": {},
     "output_type": "execute_result"
    }
   ],
   "source": [
    "# 문제 1-4: 테스트 데이터셋을 이용해 모델을 평가합니다.\n",
    "model.evaluate(test_data, test_labels)"
   ]
  },
  {
   "cell_type": "code",
   "execution_count": 40,
   "id": "25552661",
   "metadata": {},
   "outputs": [],
   "source": [
    "result = model.predict(test_data)\n",
    "\n",
    "# plt.scatter(test_data[''], test_labels)\n",
    "# plt.plot(test_data, result, 'r')\n",
    "# plt.show()"
   ]
  },
  {
   "cell_type": "markdown",
   "id": "f23beb25",
   "metadata": {},
   "source": [
    "## Reuters 딥러닝 모델\n",
    "이번 스텝에서는 8번 노드에 나왔던 모델과 동일한 모델을 실습합니다. 하지만 다양한 성능 향상 방법을 사용하여 8번 노드에서의 딥러닝 모델보다 성능을 더 높일 수 있습니다. 8번 노드에서 사용했던 ReLU와는 다른 활성화함수를 사용해보고, BatchNormalization과 Dropout을 적용해 봅시다. ModelCheckpoint와 EarlyStopping 콜백 함수도 적용해 보세요."
   ]
  },
  {
   "cell_type": "markdown",
   "id": "36400856",
   "metadata": {},
   "source": [
    "### 데이터 로드 및 전처리\n",
    "reuters 데이터셋을 로드하고, 훈련 데이터셋에서 25%를 검증 데이터셋으로 분리합니다. 데이터셋은 keras.datasets에서 불러올 수 있는 reuters 데이터 셋을 활용하고, 이때 파라메터 조정을 통해 단어의 개수는 10000개로 제한합니다(num_words=10000).\n",
    "데이터셋 분리 작업에서는 sklearn 라이브러리의 train_test_split 함수를 활용합니다.\n",
    "훈련, 검증, 테스트 데이터와 레이블 종류가 몇개인지 출력합니다."
   ]
  },
  {
   "cell_type": "code",
   "execution_count": 1,
   "id": "84c4e1d0",
   "metadata": {},
   "outputs": [],
   "source": [
    "import numpy as np\n",
    "import matplotlib.pyplot as plt\n",
    "from sklearn.model_selection import train_test_split\n",
    "\n",
    "from tensorflow.keras import models, layers, callbacks, utils\n",
    "from keras.datasets import reuters"
   ]
  },
  {
   "cell_type": "code",
   "execution_count": 6,
   "id": "1968e3bc",
   "metadata": {},
   "outputs": [
    {
     "name": "stdout",
     "output_type": "stream",
     "text": [
      "8982\n",
      "2246\n",
      "46\n"
     ]
    }
   ],
   "source": [
    "# 문제 2-1: reuters 데이터셋을 로드하고 훈련 데이터셋에서 25%를 검증 데이터셋으로 분리합니다.\n",
    "(train_data, train_labels), (test_data, test_labels) = reuters.load_data(num_words=10000)\n",
    "\n",
    "print(len(train_data))\n",
    "print(len(test_data))\n",
    "print(len(set(train_labels)))\n",
    "\n",
    "# 훈련, 검증, 테스트"
   ]
  }
 ],
 "metadata": {
  "kernelspec": {
   "display_name": "Python 3 (ipykernel)",
   "language": "python",
   "name": "python3"
  },
  "language_info": {
   "codemirror_mode": {
    "name": "ipython",
    "version": 3
   },
   "file_extension": ".py",
   "mimetype": "text/x-python",
   "name": "python",
   "nbconvert_exporter": "python",
   "pygments_lexer": "ipython3",
   "version": "3.9.7"
  }
 },
 "nbformat": 4,
 "nbformat_minor": 5
}
