{
 "cells": [
  {
   "cell_type": "code",
   "execution_count": 9,
   "id": "f0d33561",
   "metadata": {},
   "outputs": [
    {
     "data": {
      "text/plain": [
       "'010-13579-#####'"
      ]
     },
     "execution_count": 9,
     "metadata": {},
     "output_type": "execute_result"
    }
   ],
   "source": [
    "# 프로젝트 1 : 전화번호 가려주는 프로그램\n",
    "\n",
    "def change_num(nums):\n",
    "    # 코드를 직접 입력해 주세요.\n",
    "    answer = nums.replace( nums[-5:], '#####' ) \n",
    "\n",
    "    return answer\n",
    "\n",
    "\n",
    "change_num('010-13579-24688')"
   ]
  },
  {
   "cell_type": "code",
   "execution_count": 10,
   "id": "24cdfe4c",
   "metadata": {},
   "outputs": [
    {
     "data": {
      "text/plain": [
       "[1, 2, 3, 4, 5, 6, 7, 8, 9]"
      ]
     },
     "execution_count": 10,
     "metadata": {},
     "output_type": "execute_result"
    }
   ],
   "source": [
    "# 프로젝트 2 : 리스트 평탄화\n",
    "\n",
    "def flatten(data):\n",
    "    output = []  # 빈 리스트를 만듭니다.\n",
    "\n",
    "    # 반복문과 재귀를 활용하여 함수 채워봐요.\n",
    "    for i in data :\n",
    "        if( type(i) == list ) :\n",
    "            output += flatten(i)\n",
    "        else :\n",
    "            output.append( i )\n",
    "\n",
    "    return output\n",
    "\n",
    "\n",
    "a = [[1, 2], 3, [[4, 5, 6], 7], 8, 9]\n",
    "flatten(a)"
   ]
  },
  {
   "cell_type": "code",
   "execution_count": 13,
   "id": "f2814b3c",
   "metadata": {},
   "outputs": [
    {
     "data": {
      "text/plain": [
       "120"
      ]
     },
     "execution_count": 13,
     "metadata": {},
     "output_type": "execute_result"
    }
   ],
   "source": [
    "# 10 이하 숫자만 곱해주는 함수\n",
    "\n",
    "def mul(*values):\n",
    "    # pass를 활용하여 함수를 완성해봐요!\n",
    "    output = 1\n",
    "    \n",
    "    for num in values:\n",
    "        if num <= 10:\n",
    "            output *= num\n",
    "        else :\n",
    "            pass\n",
    "        \n",
    "\n",
    "    return output\n",
    "\n",
    "\n",
    "mul(2, 3, 4, 5)\n",
    "\n",
    "#mul(3, 12, 10)"
   ]
  }
 ],
 "metadata": {
  "kernelspec": {
   "display_name": "Python 3 (ipykernel)",
   "language": "python",
   "name": "python3"
  },
  "language_info": {
   "codemirror_mode": {
    "name": "ipython",
    "version": 3
   },
   "file_extension": ".py",
   "mimetype": "text/x-python",
   "name": "python",
   "nbconvert_exporter": "python",
   "pygments_lexer": "ipython3",
   "version": "3.9.7"
  }
 },
 "nbformat": 4,
 "nbformat_minor": 5
}
