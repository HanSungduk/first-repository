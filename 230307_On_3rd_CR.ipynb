{
 "cells": [
  {
   "cell_type": "markdown",
   "metadata": {
    "id": "O4HnUR7EzwvU"
   },
   "source": [
    "#### 1.소수를 검사하는 함수를 정의하고, 다음의 결과와 같이 사용자가 입력한 숫자가 소수인지를 판단하는 코드를 작성하시오.\n",
    "\n",
    "소수일 경우 \"소수입니다.\" 출력, 아닐 경우 \"소수가 아닙니다.\" 출력"
   ]
  },
  {
   "cell_type": "code",
   "execution_count": null,
   "metadata": {
    "id": "5H4c6H7ZzwUo"
   },
   "outputs": [],
   "source": [
    "# your code"
   ]
  },
  {
   "cell_type": "markdown",
   "metadata": {
    "id": "o4erIHOyTroH"
   },
   "source": [
    "#### 2. 트럼프 카드 52장(조커 제외)을 1~52의 정수로 출력하는 코드를 아래 조건을 만족하도록 작성하시오.\n",
    "\n",
    "- 조건1. 조건문과 반복문을 활용하여 코드를 작성\n",
    "- 조건2. 1 ~ 13 : Spade A ~ k로 저장<br>\n",
    "- 조건3. 14 ~ 26 : Heart A ~ k로 저장<br>\n",
    "- 조건4. 27 ~ 39 : Diamond A ~ k로 저장<br>\n",
    "- 조건5. 40 ~ 52 : Clover A ~ k로 저장\n"
   ]
  },
  {
   "cell_type": "code",
   "execution_count": null,
   "metadata": {
    "id": "qZswk2hMsg2T"
   },
   "outputs": [],
   "source": [
    "'''\n",
    "# 출력 예시 #\n",
    "1 Spade A\n",
    "2 Spade 2\n",
    "3 Spade 3\n",
    "...\n",
    "...\n",
    "13 Spade K\n",
    "14 Heart A\n",
    "15 Heart 2\n",
    "...\n",
    "...\n",
    "50 Clover J\n",
    "51 Clover Q\n",
    "52 Clover K\n",
    "'''"
   ]
  },
  {
   "cell_type": "code",
   "execution_count": null,
   "metadata": {
    "id": "fkqtvO5LU3M5"
   },
   "outputs": [],
   "source": [
    "# your code"
   ]
  },
  {
   "cell_type": "markdown",
   "metadata": {
    "id": "Ng6sSYgcVjQy"
   },
   "source": [
    "#### 3. 아래 코드는 입력받은 문자열 s가 올바른 시간 형식인지 검증하는 코드입니다. is_valid_time 함수를 구현하시오.\n",
    "\n",
    "(올바른 표기 시간 범위 : 00:00:00 ~ 23:59:59)\n",
    "\n"
   ]
  },
  {
   "cell_type": "code",
   "execution_count": null,
   "metadata": {
    "id": "1ccHebYjVjlD"
   },
   "outputs": [],
   "source": [
    "'''\n",
    "# 출력 예시 #\n",
    "True\n",
    "False\n",
    "False\n",
    "'''"
   ]
  },
  {
   "cell_type": "code",
   "execution_count": null,
   "metadata": {
    "id": "P9CYOLVPVupv"
   },
   "outputs": [],
   "source": [
    "test_time = [\n",
    "    \"14:30:00\",\n",
    "    \"12:70:00\",\n",
    "    \"24:00:00\"\n",
    "]\n",
    "\n",
    "def is_valid_time(time_str):\n",
    "    # your code\n",
    "    pass # 코드 작성이 완료되면 삭제\n",
    "\n",
    "for time in test_times:\n",
    "    print(is_valid_time(time))"
   ]
  },
  {
   "cell_type": "markdown",
   "metadata": {
    "id": "_z_TRi0mzZdp"
   },
   "source": [
    "#### 4.while, for 문을 중첩해서 사용하여, 아래 조건을 만족하는 구구단 프로그램을 작성하시오.\n",
    "\n",
    "조건1.whlie문과 for문을 최소 1번 이상 사용한다.<br>\n",
    "조건2.1~3번 입력에 따라 아래와 같이 출력한다.\n",
    "- 1번을 입력하면 3,5,7,9단(홀수의 단)이 출력한다.\n",
    "- 2번을 입력하면 2,4,6,8단(짝수의 단)이 출력된다.\n",
    "- 3번을 입력하면 출력하고 싶은 단을 입력받고 입력받은 단만 출력된다.\n",
    "- 4번을 입력하면 프로그램을 종료한다.\n",
    "- 그 외에 값을 입력하면 입력오류라고 출력하고 다시 입력을 요구한다."
   ]
  },
  {
   "cell_type": "code",
   "execution_count": 1,
   "metadata": {
    "id": "S-nxBZT2zxfG"
   },
   "outputs": [],
   "source": [
    "'''\n",
    "# 출력 예시 #\n",
    "구구단 프로그램을 실행합니다.\n",
    "1.홀수 구구단 출력\n",
    "2.짝수 구구단 출력\n",
    "3.입력된 단의 구구단 출력\n",
    "4.프로그램 종료\n",
    "\n",
    "숫자를 입력해주세요. : 3\n",
    "출력하고 싶은 단을 입력해주세요. : 5\n",
    "\n",
    "5단\n",
    "5 X 1 = 5\n",
    "5 X 2 = 10\n",
    "5 X 3 = 15\n",
    "5 X 4 = 20\n",
    "5 X 5 = 25\n",
    "5 X 6 = 30\n",
    "5 X 7 = 35\n",
    "5 X 8 = 40\n",
    "5 X 9 = 45\n",
    "\n",
    "숫자를 입력해주세요. : 8\n",
    "잘못된 입력입니다. 다시 입력을 해주세요.\n",
    "\n",
    "숫자를 입력해주세요. : 4\n",
    "프로그램을 종료합니다.\n",
    "'''"
   ]
  },
  {
   "cell_type": "code",
   "execution_count": null,
   "metadata": {
    "id": "5XtVUOB_4REs"
   },
   "outputs": [],
   "source": [
    "# your code"
   ]
  },
  {
   "cell_type": "markdown",
   "metadata": {
    "id": "dgBeMYHK2vz8"
   },
   "source": [
    "#### 5.컴퓨터와 묵찌빠 게임을 하는 프로그램을 작성하시오."
   ]
  },
  {
   "cell_type": "code",
   "execution_count": null,
   "metadata": {
    "id": "ePELbrEv4P85"
   },
   "outputs": [],
   "source": [
    "'''\n",
    "# 출력 예시 #\n",
    "가위~ 바위~ 보!\n",
    "나 : 묵        <--- 입력하는 것임\n",
    "컴퓨터 : 찌    <--- 랜덤으로 출력하는 것임(hint : random 모듈 사용)\n",
    "\n",
    "묵~ 묵~        <--- 앞에 수에서 이긴 수로 출력('빠'와 '묵'라면 '빠~ 빠~'로 출력)\n",
    "나 : 찌        <--- 입력하는 것임\n",
    "컴퓨터 : 묵    <--- 랜덤으로 출력하는 것임\n",
    "\n",
    "묵~ 묵~\n",
    "나 : 빠        <--- 앞 수에서 컴퓨터가 이겼지만 왜 내가 먼저 입력을 하는지?\n",
    "컴퓨터 : 빠    <--- 어짜피 컴퓨터는 랜덤이고, 내가 늦게 내면 무조건 이기기 때문에...\n",
    "\n",
    "컴퓨터 승리!\n",
    "'''"
   ]
  },
  {
   "cell_type": "code",
   "execution_count": null,
   "metadata": {
    "id": "4MW7JhbPU5tq"
   },
   "outputs": [],
   "source": [
    "# your code"
   ]
  },
  {
   "cell_type": "markdown",
   "metadata": {
    "id": "0p4VNChDc_4m"
   },
   "source": [
    "# 재귀 문제 특집"
   ]
  },
  {
   "cell_type": "markdown",
   "metadata": {
    "id": "omTif_CEafYr"
   },
   "source": [
    "#### 1.재귀 호출을 사용하여 2개의 수를 인자로 받아 제곱을 하는 함수를 구현하시오."
   ]
  },
  {
   "cell_type": "code",
   "execution_count": null,
   "metadata": {
    "id": "WpBTzncobKj7"
   },
   "outputs": [],
   "source": [
    "def pow(a, b):\n",
    "    # your code\n",
    "    pass\n",
    "\n",
    "# 출력은 a의 b승(=a^b)"
   ]
  },
  {
   "cell_type": "markdown",
   "metadata": {
    "id": "OHdKvv0AZ2BZ"
   },
   "source": [
    "#### 2.재귀 호출을 사용하여 2 ~ 9단을 출력하는 코드를 작성하시오."
   ]
  },
  {
   "cell_type": "code",
   "execution_count": null,
   "metadata": {
    "id": "0SNItjlvZ1tA"
   },
   "outputs": [],
   "source": [
    "'''\n",
    "# 출력 예시 #\n",
    "2 X 1 = 2\n",
    "2 X 2 = 4\n",
    "2 X 3 = 6\n",
    "2 X 4 = 8\n",
    "2 X 5 = 10\n",
    "...\n",
    "...\n",
    "...\n",
    "9 X 7 = 63\n",
    "9 X 8 = 72\n",
    "9 X 9 = 81\n",
    "'''"
   ]
  },
  {
   "cell_type": "code",
   "execution_count": null,
   "metadata": {
    "id": "A6a42dpaaXuS"
   },
   "outputs": [],
   "source": [
    "# your code"
   ]
  },
  {
   "cell_type": "markdown",
   "metadata": {
    "id": "2ygXQFCabJ-C"
   },
   "source": [
    "#### 3.재귀 호출을 사용하여 입력받은 값이 회문인지 판단하는 함수를 구현하시오."
   ]
  },
  {
   "cell_type": "code",
   "execution_count": null,
   "metadata": {
    "id": "UUjrGkkkciHd"
   },
   "outputs": [],
   "source": [
    "def palindrome(s):\n",
    "    # your code\n",
    "    pass\n",
    "\n",
    "# 출력은 회문인 경우 'T'를 출력, 회문이 아닌 경우 'F'를 출력"
   ]
  }
 ],
 "metadata": {
  "colab": {
   "provenance": []
  },
  "kernelspec": {
   "display_name": "Python 3",
   "name": "python3"
  },
  "language_info": {
   "name": "python"
  }
 },
 "nbformat": 4,
 "nbformat_minor": 0
}
